{
 "metadata": {
  "language_info": {
   "codemirror_mode": {
    "name": "ipython",
    "version": 3
   },
   "file_extension": ".py",
   "mimetype": "text/x-python",
   "name": "python",
   "nbconvert_exporter": "python",
   "pygments_lexer": "ipython3",
   "version": "3.6.5-final"
  },
  "orig_nbformat": 2,
  "kernelspec": {
   "name": "python3",
   "display_name": "Python 3",
   "language": "python"
  }
 },
 "nbformat": 4,
 "nbformat_minor": 2,
 "cells": [
  {
   "source": [
    "# **Batting HOF Dataset**"
   ],
   "cell_type": "markdown",
   "metadata": {}
  },
  {
   "cell_type": "code",
   "execution_count": 1,
   "metadata": {},
   "outputs": [
    {
     "output_type": "error",
     "ename": "NameError",
     "evalue": "name 'df' is not defined",
     "traceback": [
      "\u001b[0;31m---------------------------------------------------------------------------\u001b[0m",
      "\u001b[0;31mNameError\u001b[0m                                 Traceback (most recent call last)",
      "\u001b[0;32m<ipython-input-1-4e41aca48ab9>\u001b[0m in \u001b[0;36m<module>\u001b[0;34m()\u001b[0m\n\u001b[1;32m      4\u001b[0m \u001b[0;34m\u001b[0m\u001b[0m\n\u001b[1;32m      5\u001b[0m \u001b[0;31m# Creating a df of just appearance data\u001b[0m\u001b[0;34m\u001b[0m\u001b[0;34m\u001b[0m\u001b[0m\n\u001b[0;32m----> 6\u001b[0;31m \u001b[0mdf1\u001b[0m \u001b[0;34m=\u001b[0m \u001b[0mdf\u001b[0m\u001b[0;34m[\u001b[0m\u001b[0;34m[\u001b[0m\u001b[0;34m'G_p'\u001b[0m\u001b[0;34m,\u001b[0m \u001b[0;34m'G_c'\u001b[0m\u001b[0;34m,\u001b[0m \u001b[0;34m'G_1b'\u001b[0m\u001b[0;34m,\u001b[0m \u001b[0;34m'G_2b'\u001b[0m\u001b[0;34m,\u001b[0m \u001b[0;34m'G_3b'\u001b[0m\u001b[0;34m,\u001b[0m \u001b[0;34m'G_ss'\u001b[0m\u001b[0;34m,\u001b[0m \u001b[0;34m'G_lf'\u001b[0m\u001b[0;34m,\u001b[0m \u001b[0;34m'G_cf'\u001b[0m\u001b[0;34m,\u001b[0m \u001b[0;34m'G_rf'\u001b[0m\u001b[0;34m,\u001b[0m \u001b[0;34m'G_dh'\u001b[0m\u001b[0;34m]\u001b[0m\u001b[0;34m]\u001b[0m\u001b[0;34m\u001b[0m\u001b[0m\n\u001b[0m\u001b[1;32m      7\u001b[0m \u001b[0;34m\u001b[0m\u001b[0m\n\u001b[1;32m      8\u001b[0m \u001b[0;31m# Dropping these\u001b[0m\u001b[0;34m\u001b[0m\u001b[0;34m\u001b[0m\u001b[0m\n",
      "\u001b[0;31mNameError\u001b[0m: name 'df' is not defined"
     ]
    }
   ],
   "source": [
    "# Time to go through the process of determining the primary position for each player\n",
    "# The fielding data duplicates rows since the data is based on position (some players play multiple positions)\n",
    "# From the apperances table, I joined in appearances at each position\n",
    "\n",
    "# Creating a df of just appearance data\n",
    "df1 = df[['G_p', 'G_c', 'G_1b', 'G_2b', 'G_3b', 'G_ss', 'G_lf', 'G_cf', 'G_rf', 'G_dh']]\n",
    "\n",
    "# Dropping these \n",
    "df.drop(['G_p', 'G_c', 'G_1b', 'G_2b', 'G_3b', 'G_ss', 'G_lf', 'G_cf', 'G_rf', 'G_dh'], axis=1, inplace=True)\n",
    "\n",
    "# Calling the idxmax to return the max value in each row in the form of the column name\n",
    "df1['Position'] = df1.idxmax(axis=1)\n",
    "\n",
    "# Now with the Position column populated with the column name of the max value in each row, I can replace the column\n",
    "# names with the universal position codes\n",
    "df1['Position'].replace({'G_p':'P', 'G_c':'C', 'G_lf':'LF', 'G_2b':'2B', 'G_rf':'RF', 'G_1b':'1B', 'G_3b':'3B',\n",
    "                         'G_ss':'SS', 'G_cf':'CF', 'G_dh':'DH',}, inplace=True)\n",
    "\n",
    "# Creating a list of the 2 df's to combine & concatenating the df's back to one\n",
    "batting = [df, df1]\n",
    "\n",
    "df = pd.concat(batting, axis=1)\n",
    "\n",
    "# Dropping the G_position columns since we have no use for them anymore\n",
    "df.drop(['G_p', 'G_c', 'G_1b', 'G_2b', 'G_3b', 'G_ss', 'G_lf', 'G_cf', 'G_rf', 'G_dh'], axis=1, inplace=True)\n",
    "\n",
    "# Reordering the DataFrame columns to move 'Position'\n",
    "cols = list(df)\n",
    "cols.insert(5, cols.pop(cols.index('Position')))\n",
    "\n",
    "# Adding the rows & new column positions back into the df\n",
    "df = df.loc[:, cols]\n",
    "\n",
    "# Removing the batting data for pitchers since I don't want that affecting any future analysis\n",
    "df = df[df.Position != 'P']\n",
    "\n",
    "df.head()"
   ]
  },
  {
   "cell_type": "code",
   "execution_count": null,
   "metadata": {},
   "outputs": [],
   "source": []
  }
 ]
}