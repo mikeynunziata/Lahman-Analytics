{
 "metadata": {
  "language_info": {
   "codemirror_mode": {
    "name": "ipython",
    "version": 3
   },
   "file_extension": ".py",
   "mimetype": "text/x-python",
   "name": "python",
   "nbconvert_exporter": "python",
   "pygments_lexer": "ipython3",
   "version": "3.6.5-final"
  },
  "orig_nbformat": 2,
  "kernelspec": {
   "name": "python3",
   "display_name": "Python 3",
   "language": "python"
  }
 },
 "nbformat": 4,
 "nbformat_minor": 2,
 "cells": [
  {
   "source": [
    "# **Batting HOF Dataset**"
   ],
   "cell_type": "markdown",
   "metadata": {}
  },
  {
   "cell_type": "code",
   "execution_count": 1,
   "metadata": {},
   "outputs": [
    {
     "output_type": "stream",
     "name": "stdout",
     "text": [
      "<mysql.connector.connection_cext.CMySQLConnection object at 0x104acc400>\n"
     ]
    }
   ],
   "source": [
    "import pandas as pd\n",
    "import numpy as np\n",
    "import mysql.connector as mysql\n",
    "\n",
    "# Connecting into the mysql Lahman db using the credentials from mysql workbench\n",
    "db = mysql.connect(\n",
    "    host=\"localhost\",\n",
    "    user=\"root\",\n",
    "    passwd=\"Mikejoe1\",\n",
    "    database=\"lahmansbaseballdb\" \n",
    "    \n",
    ")\n",
    "\n",
    "print(db)"
   ]
  },
  {
   "cell_type": "code",
   "execution_count": 2,
   "metadata": {},
   "outputs": [],
   "source": [
    "# Join Lahman tables together to build our dataset\n",
    "\n",
    "# Calling the mysql.connector.cursor() to help execute our query statements\n",
    "mycursor = db.cursor()\n",
    "\n",
    "# Populating 'sql' with our query. We want to create a query that gives us all the necessary batting data\n",
    "sql = \"\"\"SELECT DISTINCT \n",
    "           halloffame.playerID, nameFirst, nameLast, debut, inducted\n",
    "            from halloffame\n",
    "            JOIN people ON halloffame.playerID = people.playerID\n",
    "            where inducted = 'Y'\"\"\"\n",
    "\n",
    "\n",
    "# Use .execute() to write a simple query to make sure everything is working\n",
    "mycursor.execute(sql)\n",
    "\n",
    "# Use .fetchall() to retrieve the result set of the query\n",
    "myresult = mycursor.fetchall()"
   ]
  },
  {
   "cell_type": "code",
   "execution_count": 3,
   "metadata": {},
   "outputs": [
    {
     "output_type": "execute_result",
     "data": {
      "text/plain": [
       "    PlayerID               Name  DebutYear Inducted\n",
       "0   cobbty01            Ty Cobb     1905.0        Y\n",
       "1   ruthba01          Babe Ruth     1914.0        Y\n",
       "2  wagneho01       Honus Wagner     1897.0        Y\n",
       "3  mathech01  Christy Mathewson     1900.0        Y\n",
       "4  johnswa01     Walter Johnson     1907.0        Y"
      ],
      "text/html": "<div>\n<style scoped>\n    .dataframe tbody tr th:only-of-type {\n        vertical-align: middle;\n    }\n\n    .dataframe tbody tr th {\n        vertical-align: top;\n    }\n\n    .dataframe thead th {\n        text-align: right;\n    }\n</style>\n<table border=\"1\" class=\"dataframe\">\n  <thead>\n    <tr style=\"text-align: right;\">\n      <th></th>\n      <th>PlayerID</th>\n      <th>Name</th>\n      <th>DebutYear</th>\n      <th>Inducted</th>\n    </tr>\n  </thead>\n  <tbody>\n    <tr>\n      <th>0</th>\n      <td>cobbty01</td>\n      <td>Ty Cobb</td>\n      <td>1905.0</td>\n      <td>Y</td>\n    </tr>\n    <tr>\n      <th>1</th>\n      <td>ruthba01</td>\n      <td>Babe Ruth</td>\n      <td>1914.0</td>\n      <td>Y</td>\n    </tr>\n    <tr>\n      <th>2</th>\n      <td>wagneho01</td>\n      <td>Honus Wagner</td>\n      <td>1897.0</td>\n      <td>Y</td>\n    </tr>\n    <tr>\n      <th>3</th>\n      <td>mathech01</td>\n      <td>Christy Mathewson</td>\n      <td>1900.0</td>\n      <td>Y</td>\n    </tr>\n    <tr>\n      <th>4</th>\n      <td>johnswa01</td>\n      <td>Walter Johnson</td>\n      <td>1907.0</td>\n      <td>Y</td>\n    </tr>\n  </tbody>\n</table>\n</div>"
     },
     "metadata": {},
     "execution_count": 3
    }
   ],
   "source": [
    "# Converting the query to a DataFrame so we can start setting the data up and add more calculations\n",
    "df = pd.DataFrame(myresult)\n",
    "\n",
    "# We need to add the proper column headers back into this DataFrame\n",
    "df.columns = ['PlayerID', 'FirstName', 'LastName', 'Debut', 'Inducted']\n",
    "\n",
    "# Combining the FirstName & LastName columns to one\n",
    "df['Name'] = df['FirstName'] + \" \" + df['LastName']\n",
    "\n",
    "# Converting the Debut to a datetime object so we can manipulate the date\n",
    "df['Debut'] = pd.to_datetime(df['Debut'])\n",
    "\n",
    "# Extracting the year from the debut column\n",
    "df['DebutYear'] = pd.DatetimeIndex(df['Debut']).year\n",
    "\n",
    "# Dropping the columns from the df we don't need anymore\n",
    "df.drop(['FirstName', 'LastName', 'Debut'], axis=1, inplace=True)\n",
    "\n",
    "# Reordering the DataFrame columns to move the 'Name' & Debut columns\n",
    "cols = list(df)\n",
    "cols.insert(1, cols.pop(cols.index('Name')))\n",
    "cols.insert(2, cols.pop(cols.index('DebutYear')))\n",
    "\n",
    "# Repopulating df with new column order and rows\n",
    "df = df.loc[:, cols]\n",
    "\n",
    "df.head()"
   ]
  },
  {
   "cell_type": "code",
   "execution_count": 4,
   "metadata": {},
   "outputs": [
    {
     "output_type": "execute_result",
     "data": {
      "text/plain": [
       "        PlayerID         Name  Year TeamID                Team Position  \\\n",
       "36886  aaronha01   Hank Aaron  1954    ML1    Milwaukee Braves       LF   \n",
       "36888  abramca01   Cal Abrams  1954    BAL   Baltimore Orioles       RF   \n",
       "36889  abramca01   Cal Abrams  1954    PIT  Pittsburgh Pirates       RF   \n",
       "36890  adamsbo03  Bobby Adams  1954    CIN  Cincinnati Redlegs       3B   \n",
       "36891  adcocjo01   Joe Adcock  1954    ML1    Milwaukee Braves       1B   \n",
       "\n",
       "       DebutYear Bats BirthCountry BirthState  ...     TB  HBP  SH  SF  GIDP  \\\n",
       "36886       1954    R          USA         AL  ...    209    3   6   4    13   \n",
       "36888       1949    L          USA         PA  ...    178    4   6   1     5   \n",
       "36889       1949    L          USA         PA  ...      9    0   0   0     2   \n",
       "36890       1946    R          USA         CA  ...    151    3   4   2     4   \n",
       "36891       1950    R          USA         LA  ...    260    3  11   4     7   \n",
       "\n",
       "         BB%     K%    ISO  BABIP     RC  \n",
       "36886  0.055  0.077  0.167  0.281  67.00  \n",
       "36888  0.142  0.132  0.128  0.336  70.48  \n",
       "36889  0.192  0.173  0.071  0.182   2.77  \n",
       "36890  0.121  0.101  0.118  0.297  54.29  \n",
       "36891  0.078  0.103  0.212  0.310  94.63  \n",
       "\n",
       "[5 rows x 38 columns]"
      ],
      "text/html": "<div>\n<style scoped>\n    .dataframe tbody tr th:only-of-type {\n        vertical-align: middle;\n    }\n\n    .dataframe tbody tr th {\n        vertical-align: top;\n    }\n\n    .dataframe thead th {\n        text-align: right;\n    }\n</style>\n<table border=\"1\" class=\"dataframe\">\n  <thead>\n    <tr style=\"text-align: right;\">\n      <th></th>\n      <th>PlayerID</th>\n      <th>Name</th>\n      <th>Year</th>\n      <th>TeamID</th>\n      <th>Team</th>\n      <th>Position</th>\n      <th>DebutYear</th>\n      <th>Bats</th>\n      <th>BirthCountry</th>\n      <th>BirthState</th>\n      <th>...</th>\n      <th>TB</th>\n      <th>HBP</th>\n      <th>SH</th>\n      <th>SF</th>\n      <th>GIDP</th>\n      <th>BB%</th>\n      <th>K%</th>\n      <th>ISO</th>\n      <th>BABIP</th>\n      <th>RC</th>\n    </tr>\n  </thead>\n  <tbody>\n    <tr>\n      <th>36886</th>\n      <td>aaronha01</td>\n      <td>Hank Aaron</td>\n      <td>1954</td>\n      <td>ML1</td>\n      <td>Milwaukee Braves</td>\n      <td>LF</td>\n      <td>1954</td>\n      <td>R</td>\n      <td>USA</td>\n      <td>AL</td>\n      <td>...</td>\n      <td>209</td>\n      <td>3</td>\n      <td>6</td>\n      <td>4</td>\n      <td>13</td>\n      <td>0.055</td>\n      <td>0.077</td>\n      <td>0.167</td>\n      <td>0.281</td>\n      <td>67.00</td>\n    </tr>\n    <tr>\n      <th>36888</th>\n      <td>abramca01</td>\n      <td>Cal Abrams</td>\n      <td>1954</td>\n      <td>BAL</td>\n      <td>Baltimore Orioles</td>\n      <td>RF</td>\n      <td>1949</td>\n      <td>L</td>\n      <td>USA</td>\n      <td>PA</td>\n      <td>...</td>\n      <td>178</td>\n      <td>4</td>\n      <td>6</td>\n      <td>1</td>\n      <td>5</td>\n      <td>0.142</td>\n      <td>0.132</td>\n      <td>0.128</td>\n      <td>0.336</td>\n      <td>70.48</td>\n    </tr>\n    <tr>\n      <th>36889</th>\n      <td>abramca01</td>\n      <td>Cal Abrams</td>\n      <td>1954</td>\n      <td>PIT</td>\n      <td>Pittsburgh Pirates</td>\n      <td>RF</td>\n      <td>1949</td>\n      <td>L</td>\n      <td>USA</td>\n      <td>PA</td>\n      <td>...</td>\n      <td>9</td>\n      <td>0</td>\n      <td>0</td>\n      <td>0</td>\n      <td>2</td>\n      <td>0.192</td>\n      <td>0.173</td>\n      <td>0.071</td>\n      <td>0.182</td>\n      <td>2.77</td>\n    </tr>\n    <tr>\n      <th>36890</th>\n      <td>adamsbo03</td>\n      <td>Bobby Adams</td>\n      <td>1954</td>\n      <td>CIN</td>\n      <td>Cincinnati Redlegs</td>\n      <td>3B</td>\n      <td>1946</td>\n      <td>R</td>\n      <td>USA</td>\n      <td>CA</td>\n      <td>...</td>\n      <td>151</td>\n      <td>3</td>\n      <td>4</td>\n      <td>2</td>\n      <td>4</td>\n      <td>0.121</td>\n      <td>0.101</td>\n      <td>0.118</td>\n      <td>0.297</td>\n      <td>54.29</td>\n    </tr>\n    <tr>\n      <th>36891</th>\n      <td>adcocjo01</td>\n      <td>Joe Adcock</td>\n      <td>1954</td>\n      <td>ML1</td>\n      <td>Milwaukee Braves</td>\n      <td>1B</td>\n      <td>1950</td>\n      <td>R</td>\n      <td>USA</td>\n      <td>LA</td>\n      <td>...</td>\n      <td>260</td>\n      <td>3</td>\n      <td>11</td>\n      <td>4</td>\n      <td>7</td>\n      <td>0.078</td>\n      <td>0.103</td>\n      <td>0.212</td>\n      <td>0.310</td>\n      <td>94.63</td>\n    </tr>\n  </tbody>\n</table>\n<p>5 rows × 38 columns</p>\n</div>"
     },
     "metadata": {},
     "execution_count": 4
    }
   ],
   "source": [
    "# Reading in the excel with the batting data\n",
    "df1 = pd.read_excel('batting.xlsx', index_col=0)\n",
    "\n",
    "df1.head()"
   ]
  },
  {
   "cell_type": "code",
   "execution_count": 5,
   "metadata": {},
   "outputs": [
    {
     "output_type": "execute_result",
     "data": {
      "text/plain": [
       "        PlayerID          Name  Year TeamID           Team Position  \\\n",
       "85977  wrighda03  David Wright  2004    NYN  New York Mets       3B   \n",
       "87310  wrighda03  David Wright  2005    NYN  New York Mets       3B   \n",
       "88681  wrighda03  David Wright  2006    NYN  New York Mets       3B   \n",
       "90067  wrighda03  David Wright  2007    NYN  New York Mets       3B   \n",
       "91453  wrighda03  David Wright  2008    NYN  New York Mets       3B   \n",
       "92840  wrighda03  David Wright  2009    NYN  New York Mets       3B   \n",
       "\n",
       "       DebutYear Bats BirthCountry BirthState   ...     SH  SF  GIDP    BB%  \\\n",
       "85977       2004    R          USA         VA   ...      0   3     7  0.049   \n",
       "87310       2004    R          USA         VA   ...      0   3    16  0.110   \n",
       "88681       2004    R          USA         VA   ...      0   8    15  0.100   \n",
       "90067       2004    R          USA         VA   ...      0   7    14  0.132   \n",
       "91453       2004    R          USA         VA   ...      0  11    15  0.128   \n",
       "92840       2004    R          USA         VA   ...      0   6    16  0.120   \n",
       "\n",
       "          K%    ISO  BABIP      RC  PlayingYear  SixYear  \n",
       "85977  0.141  0.232  0.297   45.34            1     True  \n",
       "87310  0.172  0.217  0.340  115.38            2     True  \n",
       "88681  0.171  0.220  0.344  117.78            3     True  \n",
       "90067  0.162  0.222  0.356  137.11            4     True  \n",
       "91453  0.161  0.232  0.321  131.28            5     True  \n",
       "92840  0.227  0.140  0.394   93.40            6     True  \n",
       "\n",
       "[6 rows x 40 columns]"
      ],
      "text/html": "<div>\n<style scoped>\n    .dataframe tbody tr th:only-of-type {\n        vertical-align: middle;\n    }\n\n    .dataframe tbody tr th {\n        vertical-align: top;\n    }\n\n    .dataframe thead th {\n        text-align: right;\n    }\n</style>\n<table border=\"1\" class=\"dataframe\">\n  <thead>\n    <tr style=\"text-align: right;\">\n      <th></th>\n      <th>PlayerID</th>\n      <th>Name</th>\n      <th>Year</th>\n      <th>TeamID</th>\n      <th>Team</th>\n      <th>Position</th>\n      <th>DebutYear</th>\n      <th>Bats</th>\n      <th>BirthCountry</th>\n      <th>BirthState</th>\n      <th>...</th>\n      <th>SH</th>\n      <th>SF</th>\n      <th>GIDP</th>\n      <th>BB%</th>\n      <th>K%</th>\n      <th>ISO</th>\n      <th>BABIP</th>\n      <th>RC</th>\n      <th>PlayingYear</th>\n      <th>SixYear</th>\n    </tr>\n  </thead>\n  <tbody>\n    <tr>\n      <th>85977</th>\n      <td>wrighda03</td>\n      <td>David Wright</td>\n      <td>2004</td>\n      <td>NYN</td>\n      <td>New York Mets</td>\n      <td>3B</td>\n      <td>2004</td>\n      <td>R</td>\n      <td>USA</td>\n      <td>VA</td>\n      <td>...</td>\n      <td>0</td>\n      <td>3</td>\n      <td>7</td>\n      <td>0.049</td>\n      <td>0.141</td>\n      <td>0.232</td>\n      <td>0.297</td>\n      <td>45.34</td>\n      <td>1</td>\n      <td>True</td>\n    </tr>\n    <tr>\n      <th>87310</th>\n      <td>wrighda03</td>\n      <td>David Wright</td>\n      <td>2005</td>\n      <td>NYN</td>\n      <td>New York Mets</td>\n      <td>3B</td>\n      <td>2004</td>\n      <td>R</td>\n      <td>USA</td>\n      <td>VA</td>\n      <td>...</td>\n      <td>0</td>\n      <td>3</td>\n      <td>16</td>\n      <td>0.110</td>\n      <td>0.172</td>\n      <td>0.217</td>\n      <td>0.340</td>\n      <td>115.38</td>\n      <td>2</td>\n      <td>True</td>\n    </tr>\n    <tr>\n      <th>88681</th>\n      <td>wrighda03</td>\n      <td>David Wright</td>\n      <td>2006</td>\n      <td>NYN</td>\n      <td>New York Mets</td>\n      <td>3B</td>\n      <td>2004</td>\n      <td>R</td>\n      <td>USA</td>\n      <td>VA</td>\n      <td>...</td>\n      <td>0</td>\n      <td>8</td>\n      <td>15</td>\n      <td>0.100</td>\n      <td>0.171</td>\n      <td>0.220</td>\n      <td>0.344</td>\n      <td>117.78</td>\n      <td>3</td>\n      <td>True</td>\n    </tr>\n    <tr>\n      <th>90067</th>\n      <td>wrighda03</td>\n      <td>David Wright</td>\n      <td>2007</td>\n      <td>NYN</td>\n      <td>New York Mets</td>\n      <td>3B</td>\n      <td>2004</td>\n      <td>R</td>\n      <td>USA</td>\n      <td>VA</td>\n      <td>...</td>\n      <td>0</td>\n      <td>7</td>\n      <td>14</td>\n      <td>0.132</td>\n      <td>0.162</td>\n      <td>0.222</td>\n      <td>0.356</td>\n      <td>137.11</td>\n      <td>4</td>\n      <td>True</td>\n    </tr>\n    <tr>\n      <th>91453</th>\n      <td>wrighda03</td>\n      <td>David Wright</td>\n      <td>2008</td>\n      <td>NYN</td>\n      <td>New York Mets</td>\n      <td>3B</td>\n      <td>2004</td>\n      <td>R</td>\n      <td>USA</td>\n      <td>VA</td>\n      <td>...</td>\n      <td>0</td>\n      <td>11</td>\n      <td>15</td>\n      <td>0.128</td>\n      <td>0.161</td>\n      <td>0.232</td>\n      <td>0.321</td>\n      <td>131.28</td>\n      <td>5</td>\n      <td>True</td>\n    </tr>\n    <tr>\n      <th>92840</th>\n      <td>wrighda03</td>\n      <td>David Wright</td>\n      <td>2009</td>\n      <td>NYN</td>\n      <td>New York Mets</td>\n      <td>3B</td>\n      <td>2004</td>\n      <td>R</td>\n      <td>USA</td>\n      <td>VA</td>\n      <td>...</td>\n      <td>0</td>\n      <td>6</td>\n      <td>16</td>\n      <td>0.120</td>\n      <td>0.227</td>\n      <td>0.140</td>\n      <td>0.394</td>\n      <td>93.40</td>\n      <td>6</td>\n      <td>True</td>\n    </tr>\n  </tbody>\n</table>\n<p>6 rows × 40 columns</p>\n</div>"
     },
     "metadata": {},
     "execution_count": 5
    }
   ],
   "source": [
    "# Grouping the data by PlayerID and creating numbering each season of a player's career\n",
    "# This creates a generic number for each season in a player's career\n",
    "df1['PlayingYear'] = df1.groupby(['PlayerID']).cumcount()+1\n",
    "\n",
    "# Creating a boolean column to group data in and out of the first 6 years of a players career\n",
    "df1['SixYear'] = df1['PlayingYear']<=6\n",
    "\n",
    "# Removing the rows that contain 'False' from the df\n",
    "df1 = df1[df1.SixYear]\n",
    "\n",
    "# Looking at David Wright's data to make sure the years were numbered correctly & only the first 6 years remain\n",
    "df1.loc[df1['Name'] == 'David Wright']"
   ]
  },
  {
   "cell_type": "code",
   "execution_count": 6,
   "metadata": {},
   "outputs": [
    {
     "output_type": "execute_result",
     "data": {
      "text/plain": [
       "        PlayerID         Name  DebutYear    G   AB   PA   R    H  1B  2B  \\\n",
       "36886  aaronha01   Hank Aaron       1954  122  468  509  58  131  85  27   \n",
       "36888  abramca01   Cal Abrams       1949  115  423  506  67  124  89  22   \n",
       "36889  abramca01   Cal Abrams       1949   17   42   52   6    6   4   1   \n",
       "36890  adamsbo03  Bobby Adams       1946  110  390  454  69  105  71  25   \n",
       "36891  adcocjo01   Joe Adcock       1950  133  500  562  73  154  99  27   \n",
       "\n",
       "          ...       RBI  SB  CS  BB  SO  HBP  SH  SF  GIDP  PlayingYear  \n",
       "36886     ...        69   2   2  28  39    3   6   4    13            1  \n",
       "36888     ...        25   1   4  72  67    4   6   1     5            1  \n",
       "36889     ...         2   0   0  10   9    0   0   0     2            2  \n",
       "36890     ...        23   2   5  55  46    3   4   2     4            1  \n",
       "36891     ...        87   1   4  44  58    3  11   4     7            1  \n",
       "\n",
       "[5 rows x 22 columns]"
      ],
      "text/html": "<div>\n<style scoped>\n    .dataframe tbody tr th:only-of-type {\n        vertical-align: middle;\n    }\n\n    .dataframe tbody tr th {\n        vertical-align: top;\n    }\n\n    .dataframe thead th {\n        text-align: right;\n    }\n</style>\n<table border=\"1\" class=\"dataframe\">\n  <thead>\n    <tr style=\"text-align: right;\">\n      <th></th>\n      <th>PlayerID</th>\n      <th>Name</th>\n      <th>DebutYear</th>\n      <th>G</th>\n      <th>AB</th>\n      <th>PA</th>\n      <th>R</th>\n      <th>H</th>\n      <th>1B</th>\n      <th>2B</th>\n      <th>...</th>\n      <th>RBI</th>\n      <th>SB</th>\n      <th>CS</th>\n      <th>BB</th>\n      <th>SO</th>\n      <th>HBP</th>\n      <th>SH</th>\n      <th>SF</th>\n      <th>GIDP</th>\n      <th>PlayingYear</th>\n    </tr>\n  </thead>\n  <tbody>\n    <tr>\n      <th>36886</th>\n      <td>aaronha01</td>\n      <td>Hank Aaron</td>\n      <td>1954</td>\n      <td>122</td>\n      <td>468</td>\n      <td>509</td>\n      <td>58</td>\n      <td>131</td>\n      <td>85</td>\n      <td>27</td>\n      <td>...</td>\n      <td>69</td>\n      <td>2</td>\n      <td>2</td>\n      <td>28</td>\n      <td>39</td>\n      <td>3</td>\n      <td>6</td>\n      <td>4</td>\n      <td>13</td>\n      <td>1</td>\n    </tr>\n    <tr>\n      <th>36888</th>\n      <td>abramca01</td>\n      <td>Cal Abrams</td>\n      <td>1949</td>\n      <td>115</td>\n      <td>423</td>\n      <td>506</td>\n      <td>67</td>\n      <td>124</td>\n      <td>89</td>\n      <td>22</td>\n      <td>...</td>\n      <td>25</td>\n      <td>1</td>\n      <td>4</td>\n      <td>72</td>\n      <td>67</td>\n      <td>4</td>\n      <td>6</td>\n      <td>1</td>\n      <td>5</td>\n      <td>1</td>\n    </tr>\n    <tr>\n      <th>36889</th>\n      <td>abramca01</td>\n      <td>Cal Abrams</td>\n      <td>1949</td>\n      <td>17</td>\n      <td>42</td>\n      <td>52</td>\n      <td>6</td>\n      <td>6</td>\n      <td>4</td>\n      <td>1</td>\n      <td>...</td>\n      <td>2</td>\n      <td>0</td>\n      <td>0</td>\n      <td>10</td>\n      <td>9</td>\n      <td>0</td>\n      <td>0</td>\n      <td>0</td>\n      <td>2</td>\n      <td>2</td>\n    </tr>\n    <tr>\n      <th>36890</th>\n      <td>adamsbo03</td>\n      <td>Bobby Adams</td>\n      <td>1946</td>\n      <td>110</td>\n      <td>390</td>\n      <td>454</td>\n      <td>69</td>\n      <td>105</td>\n      <td>71</td>\n      <td>25</td>\n      <td>...</td>\n      <td>23</td>\n      <td>2</td>\n      <td>5</td>\n      <td>55</td>\n      <td>46</td>\n      <td>3</td>\n      <td>4</td>\n      <td>2</td>\n      <td>4</td>\n      <td>1</td>\n    </tr>\n    <tr>\n      <th>36891</th>\n      <td>adcocjo01</td>\n      <td>Joe Adcock</td>\n      <td>1950</td>\n      <td>133</td>\n      <td>500</td>\n      <td>562</td>\n      <td>73</td>\n      <td>154</td>\n      <td>99</td>\n      <td>27</td>\n      <td>...</td>\n      <td>87</td>\n      <td>1</td>\n      <td>4</td>\n      <td>44</td>\n      <td>58</td>\n      <td>3</td>\n      <td>11</td>\n      <td>4</td>\n      <td>7</td>\n      <td>1</td>\n    </tr>\n  </tbody>\n</table>\n<p>5 rows × 22 columns</p>\n</div>"
     },
     "metadata": {},
     "execution_count": 6
    }
   ],
   "source": [
    "# Dropping unnecessary columns\n",
    "# Also dropping this columns that we don't want to be aggregared (Dates)\n",
    "df1.drop(['TeamID', 'Team', 'Position', 'Bats', 'BirthCountry', 'BirthState', 'SixYear', 'Year',  'BA', 'OBP', 'SLG', 'OPS', 'TB', 'BB%', 'K%', 'ISO', 'BABIP', 'RC'], axis=1, inplace=True)\n",
    "\n",
    "df1.head()"
   ]
  },
  {
   "cell_type": "code",
   "execution_count": 7,
   "metadata": {},
   "outputs": [
    {
     "output_type": "execute_result",
     "data": {
      "text/plain": [
       "    PlayerID          Name  DebutYear    G    AB    PA    R     H   1B   2B  \\\n",
       "0  aaronha01    Hank Aaron       1954  886  3524  3866  612  1137  707  205   \n",
       "1  aaronto01  Tommie Aaron       1962  412   891   989   98   204  145   40   \n",
       "2   abadan01     Andy Abad       2001   10    18    20    1     2    2    0   \n",
       "3  abbotje01   Jeff Abbott       1997  233   596   649   82   157  104   33   \n",
       "4  abbotku01   Kurt Abbott       1993  486  1469  1604  193   376  233   78   \n",
       "\n",
       "      ...       RBI  SB  CS   BB   SO  HBP  SH  SF  GIDP  PlayingYear  \n",
       "0     ...       617  20   9  281  315   13  18  30   107           21  \n",
       "1     ...        91   9   8   83  140    0   9   6    33           21  \n",
       "2     ...         0   0   1    2    5    0   0   0     1            3  \n",
       "3     ...        83   6   5   38   91    3   5   7    12           15  \n",
       "4     ...       180  15   7   93  414   15  18   9    28           21  \n",
       "\n",
       "[5 rows x 22 columns]"
      ],
      "text/html": "<div>\n<style scoped>\n    .dataframe tbody tr th:only-of-type {\n        vertical-align: middle;\n    }\n\n    .dataframe tbody tr th {\n        vertical-align: top;\n    }\n\n    .dataframe thead th {\n        text-align: right;\n    }\n</style>\n<table border=\"1\" class=\"dataframe\">\n  <thead>\n    <tr style=\"text-align: right;\">\n      <th></th>\n      <th>PlayerID</th>\n      <th>Name</th>\n      <th>DebutYear</th>\n      <th>G</th>\n      <th>AB</th>\n      <th>PA</th>\n      <th>R</th>\n      <th>H</th>\n      <th>1B</th>\n      <th>2B</th>\n      <th>...</th>\n      <th>RBI</th>\n      <th>SB</th>\n      <th>CS</th>\n      <th>BB</th>\n      <th>SO</th>\n      <th>HBP</th>\n      <th>SH</th>\n      <th>SF</th>\n      <th>GIDP</th>\n      <th>PlayingYear</th>\n    </tr>\n  </thead>\n  <tbody>\n    <tr>\n      <th>0</th>\n      <td>aaronha01</td>\n      <td>Hank Aaron</td>\n      <td>1954</td>\n      <td>886</td>\n      <td>3524</td>\n      <td>3866</td>\n      <td>612</td>\n      <td>1137</td>\n      <td>707</td>\n      <td>205</td>\n      <td>...</td>\n      <td>617</td>\n      <td>20</td>\n      <td>9</td>\n      <td>281</td>\n      <td>315</td>\n      <td>13</td>\n      <td>18</td>\n      <td>30</td>\n      <td>107</td>\n      <td>21</td>\n    </tr>\n    <tr>\n      <th>1</th>\n      <td>aaronto01</td>\n      <td>Tommie Aaron</td>\n      <td>1962</td>\n      <td>412</td>\n      <td>891</td>\n      <td>989</td>\n      <td>98</td>\n      <td>204</td>\n      <td>145</td>\n      <td>40</td>\n      <td>...</td>\n      <td>91</td>\n      <td>9</td>\n      <td>8</td>\n      <td>83</td>\n      <td>140</td>\n      <td>0</td>\n      <td>9</td>\n      <td>6</td>\n      <td>33</td>\n      <td>21</td>\n    </tr>\n    <tr>\n      <th>2</th>\n      <td>abadan01</td>\n      <td>Andy Abad</td>\n      <td>2001</td>\n      <td>10</td>\n      <td>18</td>\n      <td>20</td>\n      <td>1</td>\n      <td>2</td>\n      <td>2</td>\n      <td>0</td>\n      <td>...</td>\n      <td>0</td>\n      <td>0</td>\n      <td>1</td>\n      <td>2</td>\n      <td>5</td>\n      <td>0</td>\n      <td>0</td>\n      <td>0</td>\n      <td>1</td>\n      <td>3</td>\n    </tr>\n    <tr>\n      <th>3</th>\n      <td>abbotje01</td>\n      <td>Jeff Abbott</td>\n      <td>1997</td>\n      <td>233</td>\n      <td>596</td>\n      <td>649</td>\n      <td>82</td>\n      <td>157</td>\n      <td>104</td>\n      <td>33</td>\n      <td>...</td>\n      <td>83</td>\n      <td>6</td>\n      <td>5</td>\n      <td>38</td>\n      <td>91</td>\n      <td>3</td>\n      <td>5</td>\n      <td>7</td>\n      <td>12</td>\n      <td>15</td>\n    </tr>\n    <tr>\n      <th>4</th>\n      <td>abbotku01</td>\n      <td>Kurt Abbott</td>\n      <td>1993</td>\n      <td>486</td>\n      <td>1469</td>\n      <td>1604</td>\n      <td>193</td>\n      <td>376</td>\n      <td>233</td>\n      <td>78</td>\n      <td>...</td>\n      <td>180</td>\n      <td>15</td>\n      <td>7</td>\n      <td>93</td>\n      <td>414</td>\n      <td>15</td>\n      <td>18</td>\n      <td>9</td>\n      <td>28</td>\n      <td>21</td>\n    </tr>\n  </tbody>\n</table>\n<p>5 rows × 22 columns</p>\n</div>"
     },
     "metadata": {},
     "execution_count": 7
    }
   ],
   "source": [
    "# Grouping the data by player and aggregating the base stats from the batting table\n",
    "df2 = df1.groupby(['PlayerID', 'Name', 'DebutYear']).agg({'G': sum, 'AB': sum, 'PA': sum, 'R': sum, 'H': sum, '1B': sum, '2B': sum, '3B': sum, 'HR': sum, 'RBI': sum, 'SB': sum, 'CS': sum, 'BB': sum, 'SO': sum, 'HBP': sum, 'SH': sum, 'SF': sum, 'GIDP': sum, 'PlayingYear': sum})\n",
    "\n",
    "# Resetting the index so the group by columns convert back to df columns\n",
    "df2.reset_index(inplace=True)\n",
    "\n",
    "df2.head()"
   ]
  },
  {
   "cell_type": "code",
   "execution_count": 8,
   "metadata": {},
   "outputs": [
    {
     "output_type": "execute_result",
     "data": {
      "text/plain": [
       "    PlayerID          Name    G    AB    PA    R     H   1B   2B  3B   HR  \\\n",
       "0  aaronha01    Hank Aaron  886  3524  3866  612  1137  707  205  46  179   \n",
       "1  aaronto01  Tommie Aaron  412   891   989   98   204  145   40   6   13   \n",
       "4  abbotku01   Kurt Abbott  486  1469  1604  193   376  233   78  19   46   \n",
       "7  abnersh01   Shawn Abner  295   632   674   68   133   91   29   3   10   \n",
       "9  abreubo01   Bobby Abreu  693  2417  2869  430   742  448  165  33   96   \n",
       "\n",
       "   RBI   SB  CS   BB   SO  HBP  SH  SF  GIDP  \n",
       "0  617   20   9  281  315   13  18  30   107  \n",
       "1   91    9   8   83  140    0   9   6    33  \n",
       "4  180   15   7   93  414   15  18   9    28  \n",
       "7   55    5   6   31  118    4   3   4    11  \n",
       "9  383  117  43  422  550    6   4  20    45  "
      ],
      "text/html": "<div>\n<style scoped>\n    .dataframe tbody tr th:only-of-type {\n        vertical-align: middle;\n    }\n\n    .dataframe tbody tr th {\n        vertical-align: top;\n    }\n\n    .dataframe thead th {\n        text-align: right;\n    }\n</style>\n<table border=\"1\" class=\"dataframe\">\n  <thead>\n    <tr style=\"text-align: right;\">\n      <th></th>\n      <th>PlayerID</th>\n      <th>Name</th>\n      <th>G</th>\n      <th>AB</th>\n      <th>PA</th>\n      <th>R</th>\n      <th>H</th>\n      <th>1B</th>\n      <th>2B</th>\n      <th>3B</th>\n      <th>HR</th>\n      <th>RBI</th>\n      <th>SB</th>\n      <th>CS</th>\n      <th>BB</th>\n      <th>SO</th>\n      <th>HBP</th>\n      <th>SH</th>\n      <th>SF</th>\n      <th>GIDP</th>\n    </tr>\n  </thead>\n  <tbody>\n    <tr>\n      <th>0</th>\n      <td>aaronha01</td>\n      <td>Hank Aaron</td>\n      <td>886</td>\n      <td>3524</td>\n      <td>3866</td>\n      <td>612</td>\n      <td>1137</td>\n      <td>707</td>\n      <td>205</td>\n      <td>46</td>\n      <td>179</td>\n      <td>617</td>\n      <td>20</td>\n      <td>9</td>\n      <td>281</td>\n      <td>315</td>\n      <td>13</td>\n      <td>18</td>\n      <td>30</td>\n      <td>107</td>\n    </tr>\n    <tr>\n      <th>1</th>\n      <td>aaronto01</td>\n      <td>Tommie Aaron</td>\n      <td>412</td>\n      <td>891</td>\n      <td>989</td>\n      <td>98</td>\n      <td>204</td>\n      <td>145</td>\n      <td>40</td>\n      <td>6</td>\n      <td>13</td>\n      <td>91</td>\n      <td>9</td>\n      <td>8</td>\n      <td>83</td>\n      <td>140</td>\n      <td>0</td>\n      <td>9</td>\n      <td>6</td>\n      <td>33</td>\n    </tr>\n    <tr>\n      <th>4</th>\n      <td>abbotku01</td>\n      <td>Kurt Abbott</td>\n      <td>486</td>\n      <td>1469</td>\n      <td>1604</td>\n      <td>193</td>\n      <td>376</td>\n      <td>233</td>\n      <td>78</td>\n      <td>19</td>\n      <td>46</td>\n      <td>180</td>\n      <td>15</td>\n      <td>7</td>\n      <td>93</td>\n      <td>414</td>\n      <td>15</td>\n      <td>18</td>\n      <td>9</td>\n      <td>28</td>\n    </tr>\n    <tr>\n      <th>7</th>\n      <td>abnersh01</td>\n      <td>Shawn Abner</td>\n      <td>295</td>\n      <td>632</td>\n      <td>674</td>\n      <td>68</td>\n      <td>133</td>\n      <td>91</td>\n      <td>29</td>\n      <td>3</td>\n      <td>10</td>\n      <td>55</td>\n      <td>5</td>\n      <td>6</td>\n      <td>31</td>\n      <td>118</td>\n      <td>4</td>\n      <td>3</td>\n      <td>4</td>\n      <td>11</td>\n    </tr>\n    <tr>\n      <th>9</th>\n      <td>abreubo01</td>\n      <td>Bobby Abreu</td>\n      <td>693</td>\n      <td>2417</td>\n      <td>2869</td>\n      <td>430</td>\n      <td>742</td>\n      <td>448</td>\n      <td>165</td>\n      <td>33</td>\n      <td>96</td>\n      <td>383</td>\n      <td>117</td>\n      <td>43</td>\n      <td>422</td>\n      <td>550</td>\n      <td>6</td>\n      <td>4</td>\n      <td>20</td>\n      <td>45</td>\n    </tr>\n  </tbody>\n</table>\n</div>"
     },
     "metadata": {},
     "execution_count": 8
    }
   ],
   "source": [
    "## Creating a boolean column of whether a player's debut is before 1954\n",
    "df2['Pre1954Debut'] = df2['DebutYear']>=1954\n",
    "\n",
    "# Removing the rows that contain 'False' from the df\n",
    "df2 = df2[df2.Pre1954Debut]\n",
    "\n",
    "# Dropping the boolean debut column\n",
    "df2.drop(['Pre1954Debut', 'DebutYear'], axis=1, inplace=True)\n",
    "\n",
    "## Removing those players that do not have six years of data\n",
    "df2['YearSum'] = df2['PlayingYear'] == 21\n",
    "\n",
    "# Removing the rows that contain 'False' from the df\n",
    "df2 = df2[df2.YearSum]\n",
    "\n",
    "# Dropping the boolean debut column\n",
    "df2.drop(['YearSum', 'PlayingYear'], axis=1, inplace=True)\n",
    "\n",
    "df2.head()"
   ]
  },
  {
   "cell_type": "code",
   "execution_count": 10,
   "metadata": {},
   "outputs": [
    {
     "output_type": "execute_result",
     "data": {
      "text/plain": [
       "    PlayerID          Name    G    AB    PA    R     H   1B   2B  3B   ...    \\\n",
       "0  aaronha01    Hank Aaron  886  3524  3866  612  1137  707  205  46   ...     \n",
       "1  aaronto01  Tommie Aaron  412   891   989   98   204  145   40   6   ...     \n",
       "4  abbotku01   Kurt Abbott  486  1469  1604  193   376  233   78  19   ...     \n",
       "7  abnersh01   Shawn Abner  295   632   674   68   133   91   29   3   ...     \n",
       "9  abreubo01   Bobby Abreu  693  2417  2869  430   742  448  165  33   ...     \n",
       "\n",
       "     TB  HBP  SH  SF  GIDP    BB%     K%    ISO  BABIP      RC  \n",
       "0  1971   13  18  30   107  0.073  0.081  0.237  0.313  734.53  \n",
       "1   295    0   9   6    33  0.084  0.142  0.102  0.257   86.93  \n",
       "4   630   15  18   9    28  0.058  0.258  0.173  0.324  189.16  \n",
       "7   198    4   3   4    11  0.046  0.175  0.103  0.242   48.98  \n",
       "9  1261    6   4  20    45  0.147  0.192  0.215  0.361  517.01  \n",
       "\n",
       "[5 rows x 30 columns]"
      ],
      "text/html": "<div>\n<style scoped>\n    .dataframe tbody tr th:only-of-type {\n        vertical-align: middle;\n    }\n\n    .dataframe tbody tr th {\n        vertical-align: top;\n    }\n\n    .dataframe thead th {\n        text-align: right;\n    }\n</style>\n<table border=\"1\" class=\"dataframe\">\n  <thead>\n    <tr style=\"text-align: right;\">\n      <th></th>\n      <th>PlayerID</th>\n      <th>Name</th>\n      <th>G</th>\n      <th>AB</th>\n      <th>PA</th>\n      <th>R</th>\n      <th>H</th>\n      <th>1B</th>\n      <th>2B</th>\n      <th>3B</th>\n      <th>...</th>\n      <th>TB</th>\n      <th>HBP</th>\n      <th>SH</th>\n      <th>SF</th>\n      <th>GIDP</th>\n      <th>BB%</th>\n      <th>K%</th>\n      <th>ISO</th>\n      <th>BABIP</th>\n      <th>RC</th>\n    </tr>\n  </thead>\n  <tbody>\n    <tr>\n      <th>0</th>\n      <td>aaronha01</td>\n      <td>Hank Aaron</td>\n      <td>886</td>\n      <td>3524</td>\n      <td>3866</td>\n      <td>612</td>\n      <td>1137</td>\n      <td>707</td>\n      <td>205</td>\n      <td>46</td>\n      <td>...</td>\n      <td>1971</td>\n      <td>13</td>\n      <td>18</td>\n      <td>30</td>\n      <td>107</td>\n      <td>0.073</td>\n      <td>0.081</td>\n      <td>0.237</td>\n      <td>0.313</td>\n      <td>734.53</td>\n    </tr>\n    <tr>\n      <th>1</th>\n      <td>aaronto01</td>\n      <td>Tommie Aaron</td>\n      <td>412</td>\n      <td>891</td>\n      <td>989</td>\n      <td>98</td>\n      <td>204</td>\n      <td>145</td>\n      <td>40</td>\n      <td>6</td>\n      <td>...</td>\n      <td>295</td>\n      <td>0</td>\n      <td>9</td>\n      <td>6</td>\n      <td>33</td>\n      <td>0.084</td>\n      <td>0.142</td>\n      <td>0.102</td>\n      <td>0.257</td>\n      <td>86.93</td>\n    </tr>\n    <tr>\n      <th>4</th>\n      <td>abbotku01</td>\n      <td>Kurt Abbott</td>\n      <td>486</td>\n      <td>1469</td>\n      <td>1604</td>\n      <td>193</td>\n      <td>376</td>\n      <td>233</td>\n      <td>78</td>\n      <td>19</td>\n      <td>...</td>\n      <td>630</td>\n      <td>15</td>\n      <td>18</td>\n      <td>9</td>\n      <td>28</td>\n      <td>0.058</td>\n      <td>0.258</td>\n      <td>0.173</td>\n      <td>0.324</td>\n      <td>189.16</td>\n    </tr>\n    <tr>\n      <th>7</th>\n      <td>abnersh01</td>\n      <td>Shawn Abner</td>\n      <td>295</td>\n      <td>632</td>\n      <td>674</td>\n      <td>68</td>\n      <td>133</td>\n      <td>91</td>\n      <td>29</td>\n      <td>3</td>\n      <td>...</td>\n      <td>198</td>\n      <td>4</td>\n      <td>3</td>\n      <td>4</td>\n      <td>11</td>\n      <td>0.046</td>\n      <td>0.175</td>\n      <td>0.103</td>\n      <td>0.242</td>\n      <td>48.98</td>\n    </tr>\n    <tr>\n      <th>9</th>\n      <td>abreubo01</td>\n      <td>Bobby Abreu</td>\n      <td>693</td>\n      <td>2417</td>\n      <td>2869</td>\n      <td>430</td>\n      <td>742</td>\n      <td>448</td>\n      <td>165</td>\n      <td>33</td>\n      <td>...</td>\n      <td>1261</td>\n      <td>6</td>\n      <td>4</td>\n      <td>20</td>\n      <td>45</td>\n      <td>0.147</td>\n      <td>0.192</td>\n      <td>0.215</td>\n      <td>0.361</td>\n      <td>517.01</td>\n    </tr>\n  </tbody>\n</table>\n<p>5 rows × 30 columns</p>\n</div>"
     },
     "metadata": {},
     "execution_count": 10
    }
   ],
   "source": [
    "# Calculating some popular statistics\n",
    "# Batting Average\n",
    "df2['BA'] = df2['H']/df2['AB']\n",
    "\n",
    "# On Base Percentage\n",
    "df2['OBP'] = (df2['H'] + df2['BB'] + df2['HBP']) / (df2['AB'] + df2['BB'] + df2['HBP'] + df2['SF'])\n",
    "\n",
    "# Total Bases\n",
    "df2['TB'] = df2['1B'] + (2 * df2['2B']) + (3 * df2['3B']) + (4 * df2['HR'])\n",
    "\n",
    "# Slugging Percentage\n",
    "df2['SLG'] = df2['TB'] / df2['AB']\n",
    "\n",
    "# On Base plus Slugginh\n",
    "df2['OPS'] = df2['OBP'] + df2['SLG']\n",
    "\n",
    "# Plate Appearances\n",
    "df2['PA'] = df2['AB'] + df2['BB'] + df2['HBP'] + df2['SH'] + df2['SF']\n",
    "\n",
    "# Walk Percentage\n",
    "df2['BB%'] = df2['BB'] /df2['PA']\n",
    "\n",
    "# Strikeout Percentage\n",
    "df2['K%'] = df2['SO'] / df2['PA']\n",
    "\n",
    "# Isolated Power\n",
    "df2['ISO'] = df2['SLG'] - df2['BA']\n",
    "\n",
    "# Batting Average on Balls in Play\n",
    "df2['BABIP'] = (df2['H'] - df2['HR']) / (df2['AB'] - df2['SO'] - df2['HR'] + df2['SF'])\n",
    "\n",
    "# Runs Created\n",
    "df2['RC'] = ((df2['H'] + df2['BB']) * df2['TB']) / (df2['AB'] + df2['BB'])\n",
    "\n",
    "# Rounding the new calculations to desired decimal places\n",
    "df2 = df2.round({'BA':3, 'OBP':3, 'SLG':3, 'OPS':3, 'ISO':3, 'BABIP':3, 'RC':2, 'BB%':3, 'K%':3})\n",
    "\n",
    "# Reshuffling the order of the columns\n",
    "df2 = df2[['PlayerID', 'Name', 'G', 'AB', 'PA', 'R', 'H', '1B', '2B', '3B', 'HR',\n",
    "       'RBI', 'SB', 'CS', 'BB', 'SO', 'BA', 'OBP', 'SLG', 'OPS', 'TB', 'HBP', \n",
    "        'SH', 'SF', 'GIDP', 'BB%', 'K%', 'ISO', 'BABIP', 'RC']]\n",
    "\n",
    "df2.head()"
   ]
  },
  {
   "cell_type": "code",
   "execution_count": 11,
   "metadata": {},
   "outputs": [
    {
     "output_type": "execute_result",
     "data": {
      "text/plain": [
       "      PlayerID              Name  DebutYear Inducted\n",
       "126  koufasa01      Sandy Koufax     1955.0        Y\n",
       "135  clemero01  Roberto Clemente     1955.0        Y\n",
       "173  gibsobo01        Bob Gibson     1959.0        Y\n",
       "176  aaronha01        Hank Aaron     1954.0        Y\n",
       "177  robinfr02    Frank Robinson     1956.0        Y"
      ],
      "text/html": "<div>\n<style scoped>\n    .dataframe tbody tr th:only-of-type {\n        vertical-align: middle;\n    }\n\n    .dataframe tbody tr th {\n        vertical-align: top;\n    }\n\n    .dataframe thead th {\n        text-align: right;\n    }\n</style>\n<table border=\"1\" class=\"dataframe\">\n  <thead>\n    <tr style=\"text-align: right;\">\n      <th></th>\n      <th>PlayerID</th>\n      <th>Name</th>\n      <th>DebutYear</th>\n      <th>Inducted</th>\n    </tr>\n  </thead>\n  <tbody>\n    <tr>\n      <th>126</th>\n      <td>koufasa01</td>\n      <td>Sandy Koufax</td>\n      <td>1955.0</td>\n      <td>Y</td>\n    </tr>\n    <tr>\n      <th>135</th>\n      <td>clemero01</td>\n      <td>Roberto Clemente</td>\n      <td>1955.0</td>\n      <td>Y</td>\n    </tr>\n    <tr>\n      <th>173</th>\n      <td>gibsobo01</td>\n      <td>Bob Gibson</td>\n      <td>1959.0</td>\n      <td>Y</td>\n    </tr>\n    <tr>\n      <th>176</th>\n      <td>aaronha01</td>\n      <td>Hank Aaron</td>\n      <td>1954.0</td>\n      <td>Y</td>\n    </tr>\n    <tr>\n      <th>177</th>\n      <td>robinfr02</td>\n      <td>Frank Robinson</td>\n      <td>1956.0</td>\n      <td>Y</td>\n    </tr>\n  </tbody>\n</table>\n</div>"
     },
     "metadata": {},
     "execution_count": 11
    }
   ],
   "source": [
    "## Creating a boolean column of whether a player's debut is before or after 1954\n",
    "df['Pre1954Debut'] = df['DebutYear']>=1954\n",
    "\n",
    "# Removing the rows that contain 'False' from the df\n",
    "df = df[df.Pre1954Debut]\n",
    "\n",
    "# Dropping the boolean debut column\n",
    "df.drop('Pre1954Debut', axis=1, inplace=True)\n",
    "\n",
    "df.head()"
   ]
  },
  {
   "cell_type": "code",
   "execution_count": 12,
   "metadata": {},
   "outputs": [
    {
     "output_type": "execute_result",
     "data": {
      "text/plain": [
       "           Name    G    AB    PA    R     H   1B   2B  3B   HR    ...     HBP  \\\n",
       "0    Hank Aaron  886  3524  3866  612  1137  707  205  46  179    ...      13   \n",
       "1  Tommie Aaron  412   891   989   98   204  145   40   6   13    ...       0   \n",
       "2   Kurt Abbott  486  1469  1604  193   376  233   78  19   46    ...      15   \n",
       "3   Shawn Abner  295   632   674   68   133   91   29   3   10    ...       4   \n",
       "4   Bobby Abreu  693  2417  2869  430   742  448  165  33   96    ...       6   \n",
       "\n",
       "   SH  SF  GIDP    BB%     K%    ISO  BABIP      RC  Inducted  \n",
       "0  18  30   107  0.073  0.081  0.237  0.313  734.53         1  \n",
       "1   9   6    33  0.084  0.142  0.102  0.257   86.93         0  \n",
       "2  18   9    28  0.058  0.258  0.173  0.324  189.16         0  \n",
       "3   3   4    11  0.046  0.175  0.103  0.242   48.98         0  \n",
       "4   4  20    45  0.147  0.192  0.215  0.361  517.01         0  \n",
       "\n",
       "[5 rows x 30 columns]"
      ],
      "text/html": "<div>\n<style scoped>\n    .dataframe tbody tr th:only-of-type {\n        vertical-align: middle;\n    }\n\n    .dataframe tbody tr th {\n        vertical-align: top;\n    }\n\n    .dataframe thead th {\n        text-align: right;\n    }\n</style>\n<table border=\"1\" class=\"dataframe\">\n  <thead>\n    <tr style=\"text-align: right;\">\n      <th></th>\n      <th>Name</th>\n      <th>G</th>\n      <th>AB</th>\n      <th>PA</th>\n      <th>R</th>\n      <th>H</th>\n      <th>1B</th>\n      <th>2B</th>\n      <th>3B</th>\n      <th>HR</th>\n      <th>...</th>\n      <th>HBP</th>\n      <th>SH</th>\n      <th>SF</th>\n      <th>GIDP</th>\n      <th>BB%</th>\n      <th>K%</th>\n      <th>ISO</th>\n      <th>BABIP</th>\n      <th>RC</th>\n      <th>Inducted</th>\n    </tr>\n  </thead>\n  <tbody>\n    <tr>\n      <th>0</th>\n      <td>Hank Aaron</td>\n      <td>886</td>\n      <td>3524</td>\n      <td>3866</td>\n      <td>612</td>\n      <td>1137</td>\n      <td>707</td>\n      <td>205</td>\n      <td>46</td>\n      <td>179</td>\n      <td>...</td>\n      <td>13</td>\n      <td>18</td>\n      <td>30</td>\n      <td>107</td>\n      <td>0.073</td>\n      <td>0.081</td>\n      <td>0.237</td>\n      <td>0.313</td>\n      <td>734.53</td>\n      <td>1</td>\n    </tr>\n    <tr>\n      <th>1</th>\n      <td>Tommie Aaron</td>\n      <td>412</td>\n      <td>891</td>\n      <td>989</td>\n      <td>98</td>\n      <td>204</td>\n      <td>145</td>\n      <td>40</td>\n      <td>6</td>\n      <td>13</td>\n      <td>...</td>\n      <td>0</td>\n      <td>9</td>\n      <td>6</td>\n      <td>33</td>\n      <td>0.084</td>\n      <td>0.142</td>\n      <td>0.102</td>\n      <td>0.257</td>\n      <td>86.93</td>\n      <td>0</td>\n    </tr>\n    <tr>\n      <th>2</th>\n      <td>Kurt Abbott</td>\n      <td>486</td>\n      <td>1469</td>\n      <td>1604</td>\n      <td>193</td>\n      <td>376</td>\n      <td>233</td>\n      <td>78</td>\n      <td>19</td>\n      <td>46</td>\n      <td>...</td>\n      <td>15</td>\n      <td>18</td>\n      <td>9</td>\n      <td>28</td>\n      <td>0.058</td>\n      <td>0.258</td>\n      <td>0.173</td>\n      <td>0.324</td>\n      <td>189.16</td>\n      <td>0</td>\n    </tr>\n    <tr>\n      <th>3</th>\n      <td>Shawn Abner</td>\n      <td>295</td>\n      <td>632</td>\n      <td>674</td>\n      <td>68</td>\n      <td>133</td>\n      <td>91</td>\n      <td>29</td>\n      <td>3</td>\n      <td>10</td>\n      <td>...</td>\n      <td>4</td>\n      <td>3</td>\n      <td>4</td>\n      <td>11</td>\n      <td>0.046</td>\n      <td>0.175</td>\n      <td>0.103</td>\n      <td>0.242</td>\n      <td>48.98</td>\n      <td>0</td>\n    </tr>\n    <tr>\n      <th>4</th>\n      <td>Bobby Abreu</td>\n      <td>693</td>\n      <td>2417</td>\n      <td>2869</td>\n      <td>430</td>\n      <td>742</td>\n      <td>448</td>\n      <td>165</td>\n      <td>33</td>\n      <td>96</td>\n      <td>...</td>\n      <td>6</td>\n      <td>4</td>\n      <td>20</td>\n      <td>45</td>\n      <td>0.147</td>\n      <td>0.192</td>\n      <td>0.215</td>\n      <td>0.361</td>\n      <td>517.01</td>\n      <td>0</td>\n    </tr>\n  </tbody>\n</table>\n<p>5 rows × 30 columns</p>\n</div>"
     },
     "metadata": {},
     "execution_count": 12
    }
   ],
   "source": [
    "# Drop those columns from the halloffame df that we don't need\n",
    "df.drop(['Name', 'DebutYear'], axis=1, inplace=True)\n",
    "\n",
    "# Perform a merge to combine the two dfs. This is essentially a vlookup in pandas\n",
    "df = pd.merge(df2, df, on = 'PlayerID', how='left')\n",
    "\n",
    "# Dropping the players with null names because they are pitchers\n",
    "df = df[df['Name'].notna()]\n",
    "\n",
    "# Replacing the values in the Inducted with binary\n",
    "df.Inducted = df.Inducted.fillna(0)\n",
    "df.Inducted = df.Inducted.replace({'Y':1})\n",
    "\n",
    "# Dropping DebutYear from final dataset\n",
    "df.drop('PlayerID', axis=1, inplace=True)\n",
    "\n",
    "df.head()"
   ]
  },
  {
   "cell_type": "code",
   "execution_count": 13,
   "metadata": {},
   "outputs": [],
   "source": [
    "df.to_excel(\"Inducted.xlsx\")"
   ]
  },
  {
   "cell_type": "code",
   "execution_count": null,
   "metadata": {},
   "outputs": [],
   "source": []
  }
 ]
}