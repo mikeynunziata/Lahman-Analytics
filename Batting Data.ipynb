{
 "cells": [
  {
   "cell_type": "markdown",
   "metadata": {},
   "source": [
    "# **Package & SQL Data Import**"
   ]
  },
  {
   "cell_type": "code",
   "execution_count": 1,
   "metadata": {},
   "outputs": [
    {
     "output_type": "stream",
     "name": "stdout",
     "text": [
      "<mysql.connector.connection_cext.CMySQLConnection object at 0x10425a550>\n"
     ]
    }
   ],
   "source": [
    "# importing the necessary packages\n",
    "import mysql.connector as mysql\n",
    "import pandas as pd\n",
    "import numpy as np\n",
    "import matplotlib.pyplot as plt\n",
    "import seaborn as sn\n",
    "\n",
    "# Connecting into the mysql Lahman db using the credentials from mysql workbench\n",
    "db = mysql.connect(\n",
    "    host=\"localhost\",\n",
    "    user=\"root\",\n",
    "    passwd=\"Mikejoe1\",\n",
    "    database=\"lahmansbaseballdb\" \n",
    "    \n",
    ")\n",
    "\n",
    "print(db)"
   ]
  },
  {
   "cell_type": "code",
   "execution_count": 2,
   "metadata": {},
   "outputs": [],
   "source": [
    "# Join Lahman tables together to build our dataset\n",
    "\n",
    "# Calling the mysql.connector.cursor() to help execute our query statements\n",
    "mycursor = db.cursor()\n",
    "\n",
    "# Populating 'sql' with our query. We want to create a query that gives us all the necessary batting data\n",
    "sql = \"\"\"SELECT DISTINCT \n",
    "            batting.playerID, nameFirst, nameLast, batting.yearID, teams.teamID, name, debut,\n",
    "            bats, birthCountry, birthState, batting.G, batting.AB, batting.R, batting.H, batting.2B, batting.3B, \n",
    "            batting.HR, batting.RBI, batting.SB, batting.CS, batting.BB, batting.SO, batting.IBB, batting.HBP, \n",
    "            batting.SH, batting.SF, batting.GIDP, G_p, G_c, G_1b, G_2b, G_3b, G_ss, G_lf, G_cf, G_rf, G_dh\n",
    "            \n",
    "            from batting\n",
    "            \n",
    "            JOIN people ON batting.playerID = people.playerID\n",
    "            JOIN teams ON batting.team_ID = teams.ID\n",
    "            JOIN appearances ON batting.playerID = appearances.playerID \n",
    "                and batting.yearID = appearances.yearID and batting.teamID = appearances.teamID\"\"\"\n",
    "\n",
    "\n",
    "# Use .execute() to write a simple query to make sure everything is working\n",
    "mycursor.execute(sql)\n",
    "\n",
    "# Use .fetchall() to retrieve the result set of the query\n",
    "myresult = mycursor.fetchall()"
   ]
  },
  {
   "cell_type": "markdown",
   "metadata": {},
   "source": [
    "# **Data Cleansing & Transformation**"
   ]
  },
  {
   "cell_type": "code",
   "execution_count": 3,
   "metadata": {},
   "outputs": [
    {
     "output_type": "execute_result",
     "data": {
      "text/plain": [
       "    PlayerID FirstName     LastName  Year TeamID                    Team  \\\n",
       "0  abercda01     Frank  Abercrombie  1871    TRO          Troy Haymakers   \n",
       "1   addybo01       Bob         Addy  1871    RC1   Rockford Forest Citys   \n",
       "2  allisar01       Art      Allison  1871    CL1  Cleveland Forest Citys   \n",
       "3  allisdo01      Doug      Allison  1871    WS3     Washington Olympics   \n",
       "4  ansonca01       Cap        Anson  1871    RC1   Rockford Forest Citys   \n",
       "\n",
       "        Debut  Bats BirthCountry BirthState  ...   G_p  G_c  G_1b  G_2b  G_3b  \\\n",
       "0  1871-10-21  None          USA         OK  ...     0    0     0     0     0   \n",
       "1  1871-05-06     L          CAN         ON  ...     0    0     0    22     0   \n",
       "2  1871-05-04  None          USA         PA  ...     0    0     0     2     0   \n",
       "3  1871-05-05     R          USA         PA  ...     0   27     0     0     0   \n",
       "4  1871-05-06     R          USA         IA  ...     0    5     1     2    20   \n",
       "\n",
       "   G_ss  G_lf  G_cf  G_rf  G_dh  \n",
       "0     1     0     0     0   0.0  \n",
       "1     3     0     0     0   0.0  \n",
       "2     0     0    29     0   0.0  \n",
       "3     0     0     0     0   0.0  \n",
       "4     0     1     0     0   0.0  \n",
       "\n",
       "[5 rows x 37 columns]"
      ],
      "text/html": "<div>\n<style scoped>\n    .dataframe tbody tr th:only-of-type {\n        vertical-align: middle;\n    }\n\n    .dataframe tbody tr th {\n        vertical-align: top;\n    }\n\n    .dataframe thead th {\n        text-align: right;\n    }\n</style>\n<table border=\"1\" class=\"dataframe\">\n  <thead>\n    <tr style=\"text-align: right;\">\n      <th></th>\n      <th>PlayerID</th>\n      <th>FirstName</th>\n      <th>LastName</th>\n      <th>Year</th>\n      <th>TeamID</th>\n      <th>Team</th>\n      <th>Debut</th>\n      <th>Bats</th>\n      <th>BirthCountry</th>\n      <th>BirthState</th>\n      <th>...</th>\n      <th>G_p</th>\n      <th>G_c</th>\n      <th>G_1b</th>\n      <th>G_2b</th>\n      <th>G_3b</th>\n      <th>G_ss</th>\n      <th>G_lf</th>\n      <th>G_cf</th>\n      <th>G_rf</th>\n      <th>G_dh</th>\n    </tr>\n  </thead>\n  <tbody>\n    <tr>\n      <th>0</th>\n      <td>abercda01</td>\n      <td>Frank</td>\n      <td>Abercrombie</td>\n      <td>1871</td>\n      <td>TRO</td>\n      <td>Troy Haymakers</td>\n      <td>1871-10-21</td>\n      <td>None</td>\n      <td>USA</td>\n      <td>OK</td>\n      <td>...</td>\n      <td>0</td>\n      <td>0</td>\n      <td>0</td>\n      <td>0</td>\n      <td>0</td>\n      <td>1</td>\n      <td>0</td>\n      <td>0</td>\n      <td>0</td>\n      <td>0.0</td>\n    </tr>\n    <tr>\n      <th>1</th>\n      <td>addybo01</td>\n      <td>Bob</td>\n      <td>Addy</td>\n      <td>1871</td>\n      <td>RC1</td>\n      <td>Rockford Forest Citys</td>\n      <td>1871-05-06</td>\n      <td>L</td>\n      <td>CAN</td>\n      <td>ON</td>\n      <td>...</td>\n      <td>0</td>\n      <td>0</td>\n      <td>0</td>\n      <td>22</td>\n      <td>0</td>\n      <td>3</td>\n      <td>0</td>\n      <td>0</td>\n      <td>0</td>\n      <td>0.0</td>\n    </tr>\n    <tr>\n      <th>2</th>\n      <td>allisar01</td>\n      <td>Art</td>\n      <td>Allison</td>\n      <td>1871</td>\n      <td>CL1</td>\n      <td>Cleveland Forest Citys</td>\n      <td>1871-05-04</td>\n      <td>None</td>\n      <td>USA</td>\n      <td>PA</td>\n      <td>...</td>\n      <td>0</td>\n      <td>0</td>\n      <td>0</td>\n      <td>2</td>\n      <td>0</td>\n      <td>0</td>\n      <td>0</td>\n      <td>29</td>\n      <td>0</td>\n      <td>0.0</td>\n    </tr>\n    <tr>\n      <th>3</th>\n      <td>allisdo01</td>\n      <td>Doug</td>\n      <td>Allison</td>\n      <td>1871</td>\n      <td>WS3</td>\n      <td>Washington Olympics</td>\n      <td>1871-05-05</td>\n      <td>R</td>\n      <td>USA</td>\n      <td>PA</td>\n      <td>...</td>\n      <td>0</td>\n      <td>27</td>\n      <td>0</td>\n      <td>0</td>\n      <td>0</td>\n      <td>0</td>\n      <td>0</td>\n      <td>0</td>\n      <td>0</td>\n      <td>0.0</td>\n    </tr>\n    <tr>\n      <th>4</th>\n      <td>ansonca01</td>\n      <td>Cap</td>\n      <td>Anson</td>\n      <td>1871</td>\n      <td>RC1</td>\n      <td>Rockford Forest Citys</td>\n      <td>1871-05-06</td>\n      <td>R</td>\n      <td>USA</td>\n      <td>IA</td>\n      <td>...</td>\n      <td>0</td>\n      <td>5</td>\n      <td>1</td>\n      <td>2</td>\n      <td>20</td>\n      <td>0</td>\n      <td>1</td>\n      <td>0</td>\n      <td>0</td>\n      <td>0.0</td>\n    </tr>\n  </tbody>\n</table>\n<p>5 rows × 37 columns</p>\n</div>"
     },
     "metadata": {},
     "execution_count": 3
    }
   ],
   "source": [
    "# Converting the query to a DataFrame so we can start setting the data up and add more calculations\n",
    "df = pd.DataFrame(myresult)\n",
    "\n",
    "# We need to add the proper column headers back into this DataFrame\n",
    "df.columns = ['PlayerID', 'FirstName', 'LastName', 'Year', 'TeamID', 'Team', 'Debut', 'Bats', 'BirthCountry', 'BirthState',\n",
    "                   'G', 'AB', 'R', 'H', '2B','3B', 'HR', 'RBI', 'SB', 'CS', 'BB', 'SO', 'IBB', 'HBP', 'SH', 'SF', \n",
    "                   'GIDP', 'G_p', 'G_c', 'G_1b', 'G_2b', 'G_3b', 'G_ss', 'G_lf', 'G_cf', 'G_rf', 'G_dh']\n",
    "\n",
    "df.head()"
   ]
  },
  {
   "cell_type": "code",
   "execution_count": 4,
   "metadata": {},
   "outputs": [
    {
     "output_type": "stream",
     "name": "stdout",
     "text": [
      "PlayerID 0\nName 38\nFirstName 38\nLastName 0\nYear 0\nTeamID 0\nTeam 0\nDebut 8\nBats 1921\nBirthCountry 75\nBirthState 3025\nG 0\nAB 0\nR 0\nH 0\n2B 0\n3B 0\nHR 0\nRBI 756\nSB 2368\nCS 23540\nBB 0\nSO 2099\nIBB 36649\nHBP 2816\nSH 6068\nSF 36102\nGIDP 25440\nG_p 0\nG_c 0\nG_1b 0\nG_2b 0\nG_3b 0\nG_ss 0\nG_lf 0\nG_cf 0\nG_rf 0\nG_dh 1267\nDebutYear 8\n"
     ]
    }
   ],
   "source": [
    "### Cleaning up some columns\n",
    "# Combining the FirstName & LastName columns to one\n",
    "df['Name'] = df['FirstName'] + \" \" + df['LastName']\n",
    "\n",
    "# Reordering the DataFrame columns to move the 'Name' column\n",
    "cols = list(df)\n",
    "cols.insert(1, cols.pop(cols.index('Name')))\n",
    "\n",
    "# Repopulating df with new column order and rows\n",
    "df = df.loc[:, cols]\n",
    "\n",
    "# Converting the Debut to a datetime object so we can manipulate the date\n",
    "df['Debut'] = pd.to_datetime(df['Debut'])\n",
    "\n",
    "# Extracting the year from the debut column\n",
    "df['DebutYear'] = pd.DatetimeIndex(df['Debut']).year\n",
    "\n",
    "## Show the amount of nulls in each column of our DataFrame\n",
    "# Creating an empty list for column names\n",
    "names = []\n",
    "\n",
    "# Creating an empty list for the number of null values in each column\n",
    "values = []\n",
    "\n",
    "# Checking for Missing Values\n",
    "for col in df.columns:\n",
    "    names.append(col)\n",
    "    values.append(df[col].isnull().sum())\n",
    "    print(names[-1],values[-1]) "
   ]
  },
  {
   "cell_type": "code",
   "execution_count": 5,
   "metadata": {},
   "outputs": [
    {
     "output_type": "execute_result",
     "data": {
      "text/plain": [
       "        PlayerID           Name  Year TeamID                 Team Bats  \\\n",
       "37462  aaronha01     Hank Aaron  1955    ML1     Milwaukee Braves    R   \n",
       "37463   aberal01        Al Aber  1955    DET       Detroit Tigers    L   \n",
       "37464  abernte02  Ted Abernathy  1955    WS1  Washington Senators    R   \n",
       "37465  abramca01     Cal Abrams  1955    BAL    Baltimore Orioles    L   \n",
       "37466  adamsbo03    Bobby Adams  1955    CHA    Chicago White Sox    R   \n",
       "\n",
       "      BirthCountry BirthState    G   AB    ...      G_c  G_1b  G_2b  G_3b  \\\n",
       "37462          USA         AL  153  602    ...        0     0    27     0   \n",
       "37463          USA         OH   39   17    ...        0     0     0     0   \n",
       "37464          USA         NC   40   26    ...        0     0     0     0   \n",
       "37465          USA         PA  118  309    ...        0     3     0     0   \n",
       "37466          USA         CA   28   21    ...        0     0     1     9   \n",
       "\n",
       "       G_ss  G_lf  G_cf  G_rf  G_dh  DebutYear  \n",
       "37462     0    30     0   104   0.0     1954.0  \n",
       "37463     0     0     0     0   0.0     1950.0  \n",
       "37464     0     0     0     0   0.0     1955.0  \n",
       "37465     0    13    58    46   0.0     1949.0  \n",
       "37466     0     0     0     0   0.0     1946.0  \n",
       "\n",
       "[5 rows x 36 columns]"
      ],
      "text/html": "<div>\n<style scoped>\n    .dataframe tbody tr th:only-of-type {\n        vertical-align: middle;\n    }\n\n    .dataframe tbody tr th {\n        vertical-align: top;\n    }\n\n    .dataframe thead th {\n        text-align: right;\n    }\n</style>\n<table border=\"1\" class=\"dataframe\">\n  <thead>\n    <tr style=\"text-align: right;\">\n      <th></th>\n      <th>PlayerID</th>\n      <th>Name</th>\n      <th>Year</th>\n      <th>TeamID</th>\n      <th>Team</th>\n      <th>Bats</th>\n      <th>BirthCountry</th>\n      <th>BirthState</th>\n      <th>G</th>\n      <th>AB</th>\n      <th>...</th>\n      <th>G_c</th>\n      <th>G_1b</th>\n      <th>G_2b</th>\n      <th>G_3b</th>\n      <th>G_ss</th>\n      <th>G_lf</th>\n      <th>G_cf</th>\n      <th>G_rf</th>\n      <th>G_dh</th>\n      <th>DebutYear</th>\n    </tr>\n  </thead>\n  <tbody>\n    <tr>\n      <th>37462</th>\n      <td>aaronha01</td>\n      <td>Hank Aaron</td>\n      <td>1955</td>\n      <td>ML1</td>\n      <td>Milwaukee Braves</td>\n      <td>R</td>\n      <td>USA</td>\n      <td>AL</td>\n      <td>153</td>\n      <td>602</td>\n      <td>...</td>\n      <td>0</td>\n      <td>0</td>\n      <td>27</td>\n      <td>0</td>\n      <td>0</td>\n      <td>30</td>\n      <td>0</td>\n      <td>104</td>\n      <td>0.0</td>\n      <td>1954.0</td>\n    </tr>\n    <tr>\n      <th>37463</th>\n      <td>aberal01</td>\n      <td>Al Aber</td>\n      <td>1955</td>\n      <td>DET</td>\n      <td>Detroit Tigers</td>\n      <td>L</td>\n      <td>USA</td>\n      <td>OH</td>\n      <td>39</td>\n      <td>17</td>\n      <td>...</td>\n      <td>0</td>\n      <td>0</td>\n      <td>0</td>\n      <td>0</td>\n      <td>0</td>\n      <td>0</td>\n      <td>0</td>\n      <td>0</td>\n      <td>0.0</td>\n      <td>1950.0</td>\n    </tr>\n    <tr>\n      <th>37464</th>\n      <td>abernte02</td>\n      <td>Ted Abernathy</td>\n      <td>1955</td>\n      <td>WS1</td>\n      <td>Washington Senators</td>\n      <td>R</td>\n      <td>USA</td>\n      <td>NC</td>\n      <td>40</td>\n      <td>26</td>\n      <td>...</td>\n      <td>0</td>\n      <td>0</td>\n      <td>0</td>\n      <td>0</td>\n      <td>0</td>\n      <td>0</td>\n      <td>0</td>\n      <td>0</td>\n      <td>0.0</td>\n      <td>1955.0</td>\n    </tr>\n    <tr>\n      <th>37465</th>\n      <td>abramca01</td>\n      <td>Cal Abrams</td>\n      <td>1955</td>\n      <td>BAL</td>\n      <td>Baltimore Orioles</td>\n      <td>L</td>\n      <td>USA</td>\n      <td>PA</td>\n      <td>118</td>\n      <td>309</td>\n      <td>...</td>\n      <td>0</td>\n      <td>3</td>\n      <td>0</td>\n      <td>0</td>\n      <td>0</td>\n      <td>13</td>\n      <td>58</td>\n      <td>46</td>\n      <td>0.0</td>\n      <td>1949.0</td>\n    </tr>\n    <tr>\n      <th>37466</th>\n      <td>adamsbo03</td>\n      <td>Bobby Adams</td>\n      <td>1955</td>\n      <td>CHA</td>\n      <td>Chicago White Sox</td>\n      <td>R</td>\n      <td>USA</td>\n      <td>CA</td>\n      <td>28</td>\n      <td>21</td>\n      <td>...</td>\n      <td>0</td>\n      <td>0</td>\n      <td>1</td>\n      <td>9</td>\n      <td>0</td>\n      <td>0</td>\n      <td>0</td>\n      <td>0</td>\n      <td>0.0</td>\n      <td>1946.0</td>\n    </tr>\n  </tbody>\n</table>\n<p>5 rows × 36 columns</p>\n</div>"
     },
     "metadata": {},
     "execution_count": 5
    }
   ],
   "source": [
    "### Replacing the nulls in the statistical columns with 0\n",
    "\n",
    "# Dropping those players that do not have a complete name in the dataset\n",
    "# This is caused by no string in the nameFirst column from the query\n",
    "df = df[df['Name'].notna()]\n",
    "\n",
    "## I want to keep the stats as modern as possible. So, I have chosen to start at 1955\n",
    "## The most modern stat, IBB, was credited to hitters starting in 1955. So no nulls will appear.\n",
    "\n",
    "# Creating a boolean column of whether the data is before or after 1955\n",
    "df['Pre1955'] = df['Year']>=1955\n",
    "\n",
    "# Removing the rows that contain 'False' from the df\n",
    "df = df[df.Pre1955]\n",
    "\n",
    "# Dropping the columns from the df we don't need anymore\n",
    "df.drop(['FirstName', 'LastName', 'Pre1955', 'Debut'], axis=1, inplace=True)\n",
    "\n",
    "df.head()"
   ]
  },
  {
   "cell_type": "code",
   "execution_count": 6,
   "metadata": {},
   "outputs": [
    {
     "output_type": "stream",
     "name": "stdout",
     "text": [
      "PlayerID 0\nName 0\nYear 0\nTeamID 0\nTeam 0\nBats 0\nBirthCountry 0\nBirthState 2504\nG 0\nAB 0\nR 0\nH 0\n2B 0\n3B 0\nHR 0\nRBI 0\nSB 0\nCS 0\nBB 0\nSO 0\nIBB 0\nHBP 0\nSH 0\nSF 0\nGIDP 0\nG_p 0\nG_c 0\nG_1b 0\nG_2b 0\nG_3b 0\nG_ss 0\nG_lf 0\nG_cf 0\nG_rf 0\nG_dh 0\nDebutYear 0\n"
     ]
    }
   ],
   "source": [
    "## Show the amount of nulls in each column of our DataFrame\n",
    "# Creating an empty list for column names\n",
    "names = []\n",
    "\n",
    "# Creating an empty list for the number of null values in each column\n",
    "values = []\n",
    "\n",
    "# Checking for Missing Values\n",
    "for col in df.columns:\n",
    "    names.append(col)\n",
    "    values.append(df[col].isnull().sum())\n",
    "    print(names[-1],values[-1])  "
   ]
  },
  {
   "cell_type": "markdown",
   "metadata": {},
   "source": [
    "# **Stat Calculations**"
   ]
  },
  {
   "cell_type": "code",
   "execution_count": 8,
   "metadata": {},
   "outputs": [
    {
     "output_type": "execute_result",
     "data": {
      "text/plain": [
       "        PlayerID           Name  Year TeamID                 Team  DebutYear  \\\n",
       "37462  aaronha01     Hank Aaron  1955    ML1     Milwaukee Braves     1954.0   \n",
       "37463   aberal01        Al Aber  1955    DET       Detroit Tigers     1950.0   \n",
       "37464  abernte02  Ted Abernathy  1955    WS1  Washington Senators     1955.0   \n",
       "37465  abramca01     Cal Abrams  1955    BAL    Baltimore Orioles     1949.0   \n",
       "37466  adamsbo03    Bobby Adams  1955    CHA    Chicago White Sox     1946.0   \n",
       "\n",
       "      Bats BirthCountry BirthState    G  ...   G_p  G_c  G_1b  G_2b  G_3b  \\\n",
       "37462    R          USA         AL  153  ...     0    0     0    27     0   \n",
       "37463    L          USA         OH   39  ...    39    0     0     0     0   \n",
       "37464    R          USA         NC   40  ...    40    0     0     0     0   \n",
       "37465    L          USA         PA  118  ...     0    0     3     0     0   \n",
       "37466    R          USA         CA   28  ...     0    0     0     1     9   \n",
       "\n",
       "       G_ss  G_lf  G_cf  G_rf  G_dh  \n",
       "37462     0    30     0   104   0.0  \n",
       "37463     0     0     0     0   0.0  \n",
       "37464     0     0     0     0   0.0  \n",
       "37465     0    13    58    46   0.0  \n",
       "37466     0     0     0     0   0.0  \n",
       "\n",
       "[5 rows x 48 columns]"
      ],
      "text/html": "<div>\n<style scoped>\n    .dataframe tbody tr th:only-of-type {\n        vertical-align: middle;\n    }\n\n    .dataframe tbody tr th {\n        vertical-align: top;\n    }\n\n    .dataframe thead th {\n        text-align: right;\n    }\n</style>\n<table border=\"1\" class=\"dataframe\">\n  <thead>\n    <tr style=\"text-align: right;\">\n      <th></th>\n      <th>PlayerID</th>\n      <th>Name</th>\n      <th>Year</th>\n      <th>TeamID</th>\n      <th>Team</th>\n      <th>DebutYear</th>\n      <th>Bats</th>\n      <th>BirthCountry</th>\n      <th>BirthState</th>\n      <th>G</th>\n      <th>...</th>\n      <th>G_p</th>\n      <th>G_c</th>\n      <th>G_1b</th>\n      <th>G_2b</th>\n      <th>G_3b</th>\n      <th>G_ss</th>\n      <th>G_lf</th>\n      <th>G_cf</th>\n      <th>G_rf</th>\n      <th>G_dh</th>\n    </tr>\n  </thead>\n  <tbody>\n    <tr>\n      <th>37462</th>\n      <td>aaronha01</td>\n      <td>Hank Aaron</td>\n      <td>1955</td>\n      <td>ML1</td>\n      <td>Milwaukee Braves</td>\n      <td>1954.0</td>\n      <td>R</td>\n      <td>USA</td>\n      <td>AL</td>\n      <td>153</td>\n      <td>...</td>\n      <td>0</td>\n      <td>0</td>\n      <td>0</td>\n      <td>27</td>\n      <td>0</td>\n      <td>0</td>\n      <td>30</td>\n      <td>0</td>\n      <td>104</td>\n      <td>0.0</td>\n    </tr>\n    <tr>\n      <th>37463</th>\n      <td>aberal01</td>\n      <td>Al Aber</td>\n      <td>1955</td>\n      <td>DET</td>\n      <td>Detroit Tigers</td>\n      <td>1950.0</td>\n      <td>L</td>\n      <td>USA</td>\n      <td>OH</td>\n      <td>39</td>\n      <td>...</td>\n      <td>39</td>\n      <td>0</td>\n      <td>0</td>\n      <td>0</td>\n      <td>0</td>\n      <td>0</td>\n      <td>0</td>\n      <td>0</td>\n      <td>0</td>\n      <td>0.0</td>\n    </tr>\n    <tr>\n      <th>37464</th>\n      <td>abernte02</td>\n      <td>Ted Abernathy</td>\n      <td>1955</td>\n      <td>WS1</td>\n      <td>Washington Senators</td>\n      <td>1955.0</td>\n      <td>R</td>\n      <td>USA</td>\n      <td>NC</td>\n      <td>40</td>\n      <td>...</td>\n      <td>40</td>\n      <td>0</td>\n      <td>0</td>\n      <td>0</td>\n      <td>0</td>\n      <td>0</td>\n      <td>0</td>\n      <td>0</td>\n      <td>0</td>\n      <td>0.0</td>\n    </tr>\n    <tr>\n      <th>37465</th>\n      <td>abramca01</td>\n      <td>Cal Abrams</td>\n      <td>1955</td>\n      <td>BAL</td>\n      <td>Baltimore Orioles</td>\n      <td>1949.0</td>\n      <td>L</td>\n      <td>USA</td>\n      <td>PA</td>\n      <td>118</td>\n      <td>...</td>\n      <td>0</td>\n      <td>0</td>\n      <td>3</td>\n      <td>0</td>\n      <td>0</td>\n      <td>0</td>\n      <td>13</td>\n      <td>58</td>\n      <td>46</td>\n      <td>0.0</td>\n    </tr>\n    <tr>\n      <th>37466</th>\n      <td>adamsbo03</td>\n      <td>Bobby Adams</td>\n      <td>1955</td>\n      <td>CHA</td>\n      <td>Chicago White Sox</td>\n      <td>1946.0</td>\n      <td>R</td>\n      <td>USA</td>\n      <td>CA</td>\n      <td>28</td>\n      <td>...</td>\n      <td>0</td>\n      <td>0</td>\n      <td>0</td>\n      <td>1</td>\n      <td>9</td>\n      <td>0</td>\n      <td>0</td>\n      <td>0</td>\n      <td>0</td>\n      <td>0.0</td>\n    </tr>\n  </tbody>\n</table>\n<p>5 rows × 48 columns</p>\n</div>"
     },
     "metadata": {},
     "execution_count": 8
    }
   ],
   "source": [
    "# Calculating some popular statistics\n",
    "# Batting Average\n",
    "df['BA'] = df['H']/df['AB']\n",
    "\n",
    "# On Base Percentage\n",
    "df['OBP'] = (df['H'] + df['BB'] + df['HBP']) / (df['AB'] + df['BB'] + df['HBP'] + df['SF'])\n",
    "\n",
    "# Singles\n",
    "df['1B'] = df['H'] - (df['2B'] + df['3B'] + df['HR'])\n",
    "\n",
    "# Total Bases\n",
    "df['TB'] = df['1B'] + (2 * df['2B']) + (3 * df['3B']) + (4 * df['HR'])\n",
    "\n",
    "# Slugging Percentage\n",
    "df['SLG'] = df['TB'] / df['AB']\n",
    "\n",
    "# On Base plus Slugginh\n",
    "df['OPS'] = df['OBP'] + df['SLG']\n",
    "\n",
    "# Plate Appearances\n",
    "df['PA'] = df['AB'] + df['BB'] + df['HBP'] + df['SH'] + df['SF']\n",
    "\n",
    "# Walk Percentage\n",
    "df['BB%'] = df['BB'] /df['PA']\n",
    "\n",
    "# Strikeout Percentage\n",
    "df['K%'] = df['SO'] / df['PA']\n",
    "\n",
    "# Isolated Power\n",
    "df['ISO'] = df['SLG'] - df['BA']\n",
    "\n",
    "# Batting Average on Balls in Play\n",
    "df['BABIP'] = (df['H'] - df['HR']) / (df['AB'] - df['SO'] - df['HR'] + df['SF'])\n",
    "\n",
    "# Runs Created\n",
    "df['RC'] = ((df['H'] + df['BB']) * df['TB']) / (df['AB'] + df['BB'])\n",
    "\n",
    "# Rounding the new calculations to desired decimal places\n",
    "df = df.round({'BA':3, 'OBP':3, 'SLG':3, 'OPS':3, 'ISO':3, 'BABIP':3, 'RC':2, 'BB%':3, 'K%':3})\n",
    "\n",
    "df = df[['PlayerID', 'Name', 'Year', 'TeamID', 'Team', 'DebutYear', 'Bats',\n",
    "       'BirthCountry', 'BirthState', 'G', 'AB', 'PA', 'R', 'H', '1B', '2B', '3B', 'HR',\n",
    "       'RBI', 'SB', 'CS', 'BB', 'SO', 'BA', 'OBP', 'SLG', 'OPS', 'TB', 'IBB', 'HBP', \n",
    "        'SH', 'SF', 'GIDP', 'BB%', 'K%', 'ISO', 'BABIP', 'RC', 'G_p', 'G_c', 'G_1b', \n",
    "        'G_2b', 'G_3b', 'G_ss', 'G_lf', 'G_cf', 'G_rf', 'G_dh']]\n",
    "\n",
    "df.head()"
   ]
  },
  {
   "cell_type": "code",
   "execution_count": 9,
   "metadata": {},
   "outputs": [
    {
     "output_type": "stream",
     "name": "stdout",
     "text": [
      "PlayerID         object\nName             object\nYear              int64\nTeamID           object\nTeam             object\nDebutYear       float64\nBats             object\nBirthCountry     object\nBirthState       object\nG                 int64\nAB                int64\nPA              float64\nR                 int64\nH                 int64\n1B                int64\n2B                int64\n3B                int64\nHR                int64\nRBI               int64\nSB                int64\nCS                int64\nBB                int64\nSO                int64\nBA              float64\nOBP             float64\nSLG             float64\nOPS             float64\nTB                int64\nIBB               int64\nHBP               int64\nSH                int64\nSF                int64\nGIDP              int64\nBB%             float64\nK%              float64\nISO             float64\nBABIP           float64\nRC              float64\nG_p               int64\nG_c               int64\nG_1b              int64\nG_2b              int64\nG_3b              int64\nG_ss              int64\nG_lf              int64\nG_cf              int64\nG_rf              int64\nG_dh            float64\ndtype: object\n"
     ]
    }
   ],
   "source": [
    "# Converting some columns from floats to ints\n",
    "df = df.astype({'RBI': 'int64', 'SB': 'int64', 'CS': 'int64', 'SO': 'int64', 'IBB': 'int64', 'HBP': 'int64',\n",
    "            'SH': 'int64', 'SF': 'int64', 'GIDP': 'int64'})\n",
    "\n",
    "print(df.dtypes)"
   ]
  },
  {
   "cell_type": "code",
   "execution_count": 10,
   "metadata": {},
   "outputs": [],
   "source": [
    "# Writing the df to an excel file\n",
    "df.to_excel(\"batting.xlsx\")"
   ]
  },
  {
   "cell_type": "code",
   "execution_count": null,
   "metadata": {},
   "outputs": [],
   "source": []
  }
 ],
 "metadata": {
  "kernelspec": {
   "display_name": "Python 3",
   "language": "python",
   "name": "python3"
  },
  "language_info": {
   "codemirror_mode": {
    "name": "ipython",
    "version": 3
   },
   "file_extension": ".py",
   "mimetype": "text/x-python",
   "name": "python",
   "nbconvert_exporter": "python",
   "pygments_lexer": "ipython3",
   "version": "3.6.5-final"
  }
 },
 "nbformat": 4,
 "nbformat_minor": 2
}